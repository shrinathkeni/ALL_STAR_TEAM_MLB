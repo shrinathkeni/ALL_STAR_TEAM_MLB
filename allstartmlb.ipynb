{
 "cells": [
  {
   "cell_type": "code",
   "execution_count": 102,
   "metadata": {},
   "outputs": [],
   "source": [
    "import pandas as pd\n",
    "import numpy as np\n",
    "import seaborn as snd\n",
    "import matplotlib.pyplot as plt  \n",
    "from sklearn.model_selection import train_test_split \n",
    "from sklearn.linear_model import LinearRegression\n",
    "from sklearn import metrics\n",
    "%matplotlib inline\n",
    "from sklearn.model_selection import train_test_split\n",
    "import statsmodels.formula.api as smf\n",
    "import statsmodels.api as sm\n",
    "from sklearn.metrics import confusion_matrix\n",
    "from sklearn.metrics import precision_score\n",
    "import math\n",
    "from sklearn.metrics import mean_squared_error,r2_score,mean_absolute_error"
   ]
  },
  {
   "cell_type": "code",
   "execution_count": 2,
   "metadata": {},
   "outputs": [],
   "source": [
    "ast_data=pd.read_csv(r\"C:\\Users\\User\\Desktop\\358\\allstar_team_talent.csv\")"
   ]
  },
  {
   "cell_type": "code",
   "execution_count": 3,
   "metadata": {},
   "outputs": [
    {
     "data": {
      "text/html": [
       "<div>\n",
       "<style scoped>\n",
       "    .dataframe tbody tr th:only-of-type {\n",
       "        vertical-align: middle;\n",
       "    }\n",
       "\n",
       "    .dataframe tbody tr th {\n",
       "        vertical-align: top;\n",
       "    }\n",
       "\n",
       "    .dataframe thead th {\n",
       "        text-align: right;\n",
       "    }\n",
       "</style>\n",
       "<table border=\"1\" class=\"dataframe\">\n",
       "  <thead>\n",
       "    <tr style=\"text-align: right;\">\n",
       "      <th></th>\n",
       "      <th>yearID</th>\n",
       "      <th>gameNum</th>\n",
       "      <th>gameID</th>\n",
       "      <th>lgID</th>\n",
       "      <th>tm_OFF_talent</th>\n",
       "      <th>tm_DEF_talent</th>\n",
       "      <th>tm_PIT_talent</th>\n",
       "      <th>MLB_avg_RPG</th>\n",
       "      <th>talent_RSPG</th>\n",
       "      <th>talent_RAPG</th>\n",
       "      <th>unadj_PYTH</th>\n",
       "      <th>timeline_adj</th>\n",
       "      <th>SOS</th>\n",
       "      <th>adj_PYTH</th>\n",
       "      <th>no_1_player</th>\n",
       "      <th>no_2_player</th>\n",
       "    </tr>\n",
       "  </thead>\n",
       "  <tbody>\n",
       "    <tr>\n",
       "      <td>0</td>\n",
       "      <td>1966</td>\n",
       "      <td>0</td>\n",
       "      <td>NLS196607120</td>\n",
       "      <td>NL</td>\n",
       "      <td>1.332265</td>\n",
       "      <td>0.130991</td>\n",
       "      <td>0.720508</td>\n",
       "      <td>3.99</td>\n",
       "      <td>5.322265</td>\n",
       "      <td>3.138501</td>\n",
       "      <td>0.724426</td>\n",
       "      <td>0.860664</td>\n",
       "      <td>0.430332</td>\n",
       "      <td>0.665082</td>\n",
       "      <td>mayswi01</td>\n",
       "      <td>santoro01</td>\n",
       "    </tr>\n",
       "    <tr>\n",
       "      <td>1</td>\n",
       "      <td>1986</td>\n",
       "      <td>0</td>\n",
       "      <td>NLS198607150</td>\n",
       "      <td>AL</td>\n",
       "      <td>1.049056</td>\n",
       "      <td>0.356240</td>\n",
       "      <td>0.677431</td>\n",
       "      <td>4.41</td>\n",
       "      <td>5.459056</td>\n",
       "      <td>3.376329</td>\n",
       "      <td>0.706675</td>\n",
       "      <td>0.917536</td>\n",
       "      <td>0.458768</td>\n",
       "      <td>0.671282</td>\n",
       "      <td>higuete01</td>\n",
       "      <td>clemero02</td>\n",
       "    </tr>\n",
       "    <tr>\n",
       "      <td>2</td>\n",
       "      <td>1934</td>\n",
       "      <td>0</td>\n",
       "      <td>NLS193407100</td>\n",
       "      <td>AL</td>\n",
       "      <td>1.778661</td>\n",
       "      <td>0.116654</td>\n",
       "      <td>0.627669</td>\n",
       "      <td>4.91</td>\n",
       "      <td>6.688661</td>\n",
       "      <td>4.165678</td>\n",
       "      <td>0.704031</td>\n",
       "      <td>0.769668</td>\n",
       "      <td>0.384834</td>\n",
       "      <td>0.598084</td>\n",
       "      <td>hardeme01</td>\n",
       "      <td>foxxji01</td>\n",
       "    </tr>\n",
       "    <tr>\n",
       "      <td>3</td>\n",
       "      <td>1941</td>\n",
       "      <td>0</td>\n",
       "      <td>ALS194107080</td>\n",
       "      <td>AL</td>\n",
       "      <td>1.472107</td>\n",
       "      <td>0.090803</td>\n",
       "      <td>0.616915</td>\n",
       "      <td>4.49</td>\n",
       "      <td>5.962107</td>\n",
       "      <td>3.782282</td>\n",
       "      <td>0.696952</td>\n",
       "      <td>0.789573</td>\n",
       "      <td>0.394787</td>\n",
       "      <td>0.600030</td>\n",
       "      <td>dimagjo01</td>\n",
       "      <td>willite01</td>\n",
       "    </tr>\n",
       "    <tr>\n",
       "      <td>4</td>\n",
       "      <td>1940</td>\n",
       "      <td>0</td>\n",
       "      <td>NLS194007090</td>\n",
       "      <td>AL</td>\n",
       "      <td>1.356557</td>\n",
       "      <td>0.138973</td>\n",
       "      <td>0.673328</td>\n",
       "      <td>4.68</td>\n",
       "      <td>6.036557</td>\n",
       "      <td>3.867698</td>\n",
       "      <td>0.693104</td>\n",
       "      <td>0.786730</td>\n",
       "      <td>0.393365</td>\n",
       "      <td>0.594230</td>\n",
       "      <td>dimagjo01</td>\n",
       "      <td>newsobo01</td>\n",
       "    </tr>\n",
       "  </tbody>\n",
       "</table>\n",
       "</div>"
      ],
      "text/plain": [
       "   yearID  gameNum        gameID lgID  tm_OFF_talent  tm_DEF_talent  \\\n",
       "0    1966        0  NLS196607120   NL       1.332265       0.130991   \n",
       "1    1986        0  NLS198607150   AL       1.049056       0.356240   \n",
       "2    1934        0  NLS193407100   AL       1.778661       0.116654   \n",
       "3    1941        0  ALS194107080   AL       1.472107       0.090803   \n",
       "4    1940        0  NLS194007090   AL       1.356557       0.138973   \n",
       "\n",
       "   tm_PIT_talent  MLB_avg_RPG  talent_RSPG  talent_RAPG  unadj_PYTH  \\\n",
       "0       0.720508         3.99     5.322265     3.138501    0.724426   \n",
       "1       0.677431         4.41     5.459056     3.376329    0.706675   \n",
       "2       0.627669         4.91     6.688661     4.165678    0.704031   \n",
       "3       0.616915         4.49     5.962107     3.782282    0.696952   \n",
       "4       0.673328         4.68     6.036557     3.867698    0.693104   \n",
       "\n",
       "   timeline_adj       SOS  adj_PYTH no_1_player no_2_player  \n",
       "0      0.860664  0.430332  0.665082    mayswi01   santoro01  \n",
       "1      0.917536  0.458768  0.671282   higuete01   clemero02  \n",
       "2      0.769668  0.384834  0.598084   hardeme01    foxxji01  \n",
       "3      0.789573  0.394787  0.600030   dimagjo01   willite01  \n",
       "4      0.786730  0.393365  0.594230   dimagjo01   newsobo01  "
      ]
     },
     "execution_count": 3,
     "metadata": {},
     "output_type": "execute_result"
    }
   ],
   "source": [
    "ast_data.head()"
   ]
  },
  {
   "cell_type": "code",
   "execution_count": 4,
   "metadata": {},
   "outputs": [
    {
     "name": "stdout",
     "output_type": "stream",
     "text": [
      "<class 'pandas.core.frame.DataFrame'>\n",
      "RangeIndex: 172 entries, 0 to 171\n",
      "Data columns (total 16 columns):\n",
      "yearID           172 non-null int64\n",
      "gameNum          172 non-null int64\n",
      "gameID           172 non-null object\n",
      "lgID             172 non-null object\n",
      "tm_OFF_talent    172 non-null float64\n",
      "tm_DEF_talent    172 non-null float64\n",
      "tm_PIT_talent    172 non-null float64\n",
      "MLB_avg_RPG      172 non-null float64\n",
      "talent_RSPG      172 non-null float64\n",
      "talent_RAPG      172 non-null float64\n",
      "unadj_PYTH       172 non-null float64\n",
      "timeline_adj     172 non-null float64\n",
      "SOS              172 non-null float64\n",
      "adj_PYTH         172 non-null float64\n",
      "no_1_player      172 non-null object\n",
      "no_2_player      172 non-null object\n",
      "dtypes: float64(10), int64(2), object(4)\n",
      "memory usage: 21.6+ KB\n"
     ]
    }
   ],
   "source": [
    "ast_data.info()"
   ]
  },
  {
   "cell_type": "code",
   "execution_count": 5,
   "metadata": {},
   "outputs": [
    {
     "data": {
      "text/html": [
       "<div>\n",
       "<style scoped>\n",
       "    .dataframe tbody tr th:only-of-type {\n",
       "        vertical-align: middle;\n",
       "    }\n",
       "\n",
       "    .dataframe tbody tr th {\n",
       "        vertical-align: top;\n",
       "    }\n",
       "\n",
       "    .dataframe thead th {\n",
       "        text-align: right;\n",
       "    }\n",
       "</style>\n",
       "<table border=\"1\" class=\"dataframe\">\n",
       "  <thead>\n",
       "    <tr style=\"text-align: right;\">\n",
       "      <th></th>\n",
       "      <th>yearID</th>\n",
       "      <th>gameNum</th>\n",
       "      <th>tm_OFF_talent</th>\n",
       "      <th>tm_DEF_talent</th>\n",
       "      <th>tm_PIT_talent</th>\n",
       "      <th>MLB_avg_RPG</th>\n",
       "      <th>talent_RSPG</th>\n",
       "      <th>talent_RAPG</th>\n",
       "      <th>unadj_PYTH</th>\n",
       "      <th>timeline_adj</th>\n",
       "      <th>SOS</th>\n",
       "      <th>adj_PYTH</th>\n",
       "    </tr>\n",
       "  </thead>\n",
       "  <tbody>\n",
       "    <tr>\n",
       "      <td>yearID</td>\n",
       "      <td>1.000000</td>\n",
       "      <td>-0.169847</td>\n",
       "      <td>-0.043519</td>\n",
       "      <td>-0.296075</td>\n",
       "      <td>0.221472</td>\n",
       "      <td>0.045944</td>\n",
       "      <td>0.012412</td>\n",
       "      <td>0.016597</td>\n",
       "      <td>0.011056</td>\n",
       "      <td>1.000000</td>\n",
       "      <td>1.000000</td>\n",
       "      <td>0.757009</td>\n",
       "    </tr>\n",
       "    <tr>\n",
       "      <td>gameNum</td>\n",
       "      <td>-0.169847</td>\n",
       "      <td>1.000000</td>\n",
       "      <td>-0.080079</td>\n",
       "      <td>0.212247</td>\n",
       "      <td>-0.266197</td>\n",
       "      <td>0.004787</td>\n",
       "      <td>-0.035264</td>\n",
       "      <td>0.074979</td>\n",
       "      <td>-0.151728</td>\n",
       "      <td>-0.169847</td>\n",
       "      <td>-0.169847</td>\n",
       "      <td>-0.225023</td>\n",
       "    </tr>\n",
       "    <tr>\n",
       "      <td>tm_OFF_talent</td>\n",
       "      <td>-0.043519</td>\n",
       "      <td>-0.080079</td>\n",
       "      <td>1.000000</td>\n",
       "      <td>-0.068034</td>\n",
       "      <td>0.329159</td>\n",
       "      <td>0.333391</td>\n",
       "      <td>0.726800</td>\n",
       "      <td>0.196214</td>\n",
       "      <td>0.722004</td>\n",
       "      <td>-0.043519</td>\n",
       "      <td>-0.043519</td>\n",
       "      <td>0.438845</td>\n",
       "    </tr>\n",
       "    <tr>\n",
       "      <td>tm_DEF_talent</td>\n",
       "      <td>-0.296075</td>\n",
       "      <td>0.212247</td>\n",
       "      <td>-0.068034</td>\n",
       "      <td>1.000000</td>\n",
       "      <td>-0.169342</td>\n",
       "      <td>-0.146740</td>\n",
       "      <td>-0.139827</td>\n",
       "      <td>-0.313959</td>\n",
       "      <td>0.244350</td>\n",
       "      <td>-0.296075</td>\n",
       "      <td>-0.296075</td>\n",
       "      <td>-0.061811</td>\n",
       "    </tr>\n",
       "    <tr>\n",
       "      <td>tm_PIT_talent</td>\n",
       "      <td>0.221472</td>\n",
       "      <td>-0.266197</td>\n",
       "      <td>0.329159</td>\n",
       "      <td>-0.169342</td>\n",
       "      <td>1.000000</td>\n",
       "      <td>0.318517</td>\n",
       "      <td>0.391334</td>\n",
       "      <td>-0.102289</td>\n",
       "      <td>0.674437</td>\n",
       "      <td>0.221472</td>\n",
       "      <td>0.221472</td>\n",
       "      <td>0.603840</td>\n",
       "    </tr>\n",
       "    <tr>\n",
       "      <td>MLB_avg_RPG</td>\n",
       "      <td>0.045944</td>\n",
       "      <td>0.004787</td>\n",
       "      <td>0.333391</td>\n",
       "      <td>-0.146740</td>\n",
       "      <td>0.318517</td>\n",
       "      <td>1.000000</td>\n",
       "      <td>0.889863</td>\n",
       "      <td>0.882161</td>\n",
       "      <td>-0.004970</td>\n",
       "      <td>0.045944</td>\n",
       "      <td>0.045944</td>\n",
       "      <td>0.026597</td>\n",
       "    </tr>\n",
       "    <tr>\n",
       "      <td>talent_RSPG</td>\n",
       "      <td>0.012412</td>\n",
       "      <td>-0.035264</td>\n",
       "      <td>0.726800</td>\n",
       "      <td>-0.139827</td>\n",
       "      <td>0.391334</td>\n",
       "      <td>0.889863</td>\n",
       "      <td>1.000000</td>\n",
       "      <td>0.737631</td>\n",
       "      <td>0.345767</td>\n",
       "      <td>0.012412</td>\n",
       "      <td>0.012412</td>\n",
       "      <td>0.231740</td>\n",
       "    </tr>\n",
       "    <tr>\n",
       "      <td>talent_RAPG</td>\n",
       "      <td>0.016597</td>\n",
       "      <td>0.074979</td>\n",
       "      <td>0.196214</td>\n",
       "      <td>-0.313959</td>\n",
       "      <td>-0.102289</td>\n",
       "      <td>0.882161</td>\n",
       "      <td>0.737631</td>\n",
       "      <td>1.000000</td>\n",
       "      <td>-0.375437</td>\n",
       "      <td>0.016597</td>\n",
       "      <td>0.016597</td>\n",
       "      <td>-0.236234</td>\n",
       "    </tr>\n",
       "    <tr>\n",
       "      <td>unadj_PYTH</td>\n",
       "      <td>0.011056</td>\n",
       "      <td>-0.151728</td>\n",
       "      <td>0.722004</td>\n",
       "      <td>0.244350</td>\n",
       "      <td>0.674437</td>\n",
       "      <td>-0.004970</td>\n",
       "      <td>0.345767</td>\n",
       "      <td>-0.375437</td>\n",
       "      <td>1.000000</td>\n",
       "      <td>0.011056</td>\n",
       "      <td>0.011056</td>\n",
       "      <td>0.661417</td>\n",
       "    </tr>\n",
       "    <tr>\n",
       "      <td>timeline_adj</td>\n",
       "      <td>1.000000</td>\n",
       "      <td>-0.169847</td>\n",
       "      <td>-0.043519</td>\n",
       "      <td>-0.296075</td>\n",
       "      <td>0.221472</td>\n",
       "      <td>0.045944</td>\n",
       "      <td>0.012412</td>\n",
       "      <td>0.016597</td>\n",
       "      <td>0.011056</td>\n",
       "      <td>1.000000</td>\n",
       "      <td>1.000000</td>\n",
       "      <td>0.757009</td>\n",
       "    </tr>\n",
       "    <tr>\n",
       "      <td>SOS</td>\n",
       "      <td>1.000000</td>\n",
       "      <td>-0.169847</td>\n",
       "      <td>-0.043519</td>\n",
       "      <td>-0.296075</td>\n",
       "      <td>0.221472</td>\n",
       "      <td>0.045944</td>\n",
       "      <td>0.012412</td>\n",
       "      <td>0.016597</td>\n",
       "      <td>0.011056</td>\n",
       "      <td>1.000000</td>\n",
       "      <td>1.000000</td>\n",
       "      <td>0.757009</td>\n",
       "    </tr>\n",
       "    <tr>\n",
       "      <td>adj_PYTH</td>\n",
       "      <td>0.757009</td>\n",
       "      <td>-0.225023</td>\n",
       "      <td>0.438845</td>\n",
       "      <td>-0.061811</td>\n",
       "      <td>0.603840</td>\n",
       "      <td>0.026597</td>\n",
       "      <td>0.231740</td>\n",
       "      <td>-0.236234</td>\n",
       "      <td>0.661417</td>\n",
       "      <td>0.757009</td>\n",
       "      <td>0.757009</td>\n",
       "      <td>1.000000</td>\n",
       "    </tr>\n",
       "  </tbody>\n",
       "</table>\n",
       "</div>"
      ],
      "text/plain": [
       "                 yearID   gameNum  tm_OFF_talent  tm_DEF_talent  \\\n",
       "yearID         1.000000 -0.169847      -0.043519      -0.296075   \n",
       "gameNum       -0.169847  1.000000      -0.080079       0.212247   \n",
       "tm_OFF_talent -0.043519 -0.080079       1.000000      -0.068034   \n",
       "tm_DEF_talent -0.296075  0.212247      -0.068034       1.000000   \n",
       "tm_PIT_talent  0.221472 -0.266197       0.329159      -0.169342   \n",
       "MLB_avg_RPG    0.045944  0.004787       0.333391      -0.146740   \n",
       "talent_RSPG    0.012412 -0.035264       0.726800      -0.139827   \n",
       "talent_RAPG    0.016597  0.074979       0.196214      -0.313959   \n",
       "unadj_PYTH     0.011056 -0.151728       0.722004       0.244350   \n",
       "timeline_adj   1.000000 -0.169847      -0.043519      -0.296075   \n",
       "SOS            1.000000 -0.169847      -0.043519      -0.296075   \n",
       "adj_PYTH       0.757009 -0.225023       0.438845      -0.061811   \n",
       "\n",
       "               tm_PIT_talent  MLB_avg_RPG  talent_RSPG  talent_RAPG  \\\n",
       "yearID              0.221472     0.045944     0.012412     0.016597   \n",
       "gameNum            -0.266197     0.004787    -0.035264     0.074979   \n",
       "tm_OFF_talent       0.329159     0.333391     0.726800     0.196214   \n",
       "tm_DEF_talent      -0.169342    -0.146740    -0.139827    -0.313959   \n",
       "tm_PIT_talent       1.000000     0.318517     0.391334    -0.102289   \n",
       "MLB_avg_RPG         0.318517     1.000000     0.889863     0.882161   \n",
       "talent_RSPG         0.391334     0.889863     1.000000     0.737631   \n",
       "talent_RAPG        -0.102289     0.882161     0.737631     1.000000   \n",
       "unadj_PYTH          0.674437    -0.004970     0.345767    -0.375437   \n",
       "timeline_adj        0.221472     0.045944     0.012412     0.016597   \n",
       "SOS                 0.221472     0.045944     0.012412     0.016597   \n",
       "adj_PYTH            0.603840     0.026597     0.231740    -0.236234   \n",
       "\n",
       "               unadj_PYTH  timeline_adj       SOS  adj_PYTH  \n",
       "yearID           0.011056      1.000000  1.000000  0.757009  \n",
       "gameNum         -0.151728     -0.169847 -0.169847 -0.225023  \n",
       "tm_OFF_talent    0.722004     -0.043519 -0.043519  0.438845  \n",
       "tm_DEF_talent    0.244350     -0.296075 -0.296075 -0.061811  \n",
       "tm_PIT_talent    0.674437      0.221472  0.221472  0.603840  \n",
       "MLB_avg_RPG     -0.004970      0.045944  0.045944  0.026597  \n",
       "talent_RSPG      0.345767      0.012412  0.012412  0.231740  \n",
       "talent_RAPG     -0.375437      0.016597  0.016597 -0.236234  \n",
       "unadj_PYTH       1.000000      0.011056  0.011056  0.661417  \n",
       "timeline_adj     0.011056      1.000000  1.000000  0.757009  \n",
       "SOS              0.011056      1.000000  1.000000  0.757009  \n",
       "adj_PYTH         0.661417      0.757009  0.757009  1.000000  "
      ]
     },
     "execution_count": 5,
     "metadata": {},
     "output_type": "execute_result"
    }
   ],
   "source": [
    "ast_data.corr()"
   ]
  },
  {
   "cell_type": "code",
   "execution_count": 6,
   "metadata": {},
   "outputs": [],
   "source": [
    "corre=ast_data.corr()"
   ]
  },
  {
   "cell_type": "code",
   "execution_count": 7,
   "metadata": {},
   "outputs": [
    {
     "data": {
      "text/plain": [
       "<matplotlib.axes._subplots.AxesSubplot at 0x7fe8cddb08>"
      ]
     },
     "execution_count": 7,
     "metadata": {},
     "output_type": "execute_result"
    },
    {
     "data": {
      "image/png": "[encoded data removed]",
      "text/plain": [
       "<Figure size 864x864 with 2 Axes>"
      ]
     },
     "metadata": {
      "needs_background": "light"
     },
     "output_type": "display_data"
    }
   ],
   "source": [
    "f, ax = plt.subplots(figsize=(12, 12))\n",
    "snd.heatmap(corre,cmap=\"cubehelix\",annot=True)"
   ]
  },
  {
   "cell_type": "code",
   "execution_count": 8,
   "metadata": {},
   "outputs": [
    {
     "data": {
      "text/plain": [
       "yearID           0\n",
       "gameNum          0\n",
       "gameID           0\n",
       "lgID             0\n",
       "tm_OFF_talent    0\n",
       "tm_DEF_talent    0\n",
       "tm_PIT_talent    0\n",
       "MLB_avg_RPG      0\n",
       "talent_RSPG      0\n",
       "talent_RAPG      0\n",
       "unadj_PYTH       0\n",
       "timeline_adj     0\n",
       "SOS              0\n",
       "adj_PYTH         0\n",
       "no_1_player      0\n",
       "no_2_player      0\n",
       "dtype: int64"
      ]
     },
     "execution_count": 8,
     "metadata": {},
     "output_type": "execute_result"
    }
   ],
   "source": [
    "ast_data.isna().sum()"
   ]
  },
  {
   "cell_type": "code",
   "execution_count": 9,
   "metadata": {},
   "outputs": [
    {
     "data": {
      "image/png": "[encoded data removed]",
      "text/plain": [
       "<Figure size 864x864 with 2 Axes>"
      ]
     },
     "metadata": {
      "needs_background": "light"
     },
     "output_type": "display_data"
    }
   ],
   "source": [
    "f, ax = plt.subplots(figsize=(12, 12))\n",
    "ax = snd.heatmap(\n",
    "     corre, \n",
    "    vmin=-1, vmax=1, center=0,\n",
    "    cmap=snd.diverging_palette(20, 220, n=200),\n",
    "    square=True,\n",
    "    annot=True\n",
    ")\n",
    "ax.set_xticklabels(\n",
    "    ax.get_xticklabels(),\n",
    "    rotation=45,\n",
    "    horizontalalignment='right'\n",
    ");"
   ]
  },
  {
   "cell_type": "code",
   "execution_count": 10,
   "metadata": {},
   "outputs": [],
   "source": [
    "#simple regression"
   ]
  },
  {
   "cell_type": "code",
   "execution_count": 11,
   "metadata": {},
   "outputs": [],
   "source": [
    "data_new =ast_data[['tm_OFF_talent','MLB_avg_RPG']]"
   ]
  },
  {
   "cell_type": "code",
   "execution_count": 12,
   "metadata": {},
   "outputs": [
    {
     "data": {
      "text/html": [
       "<div>\n",
       "<style scoped>\n",
       "    .dataframe tbody tr th:only-of-type {\n",
       "        vertical-align: middle;\n",
       "    }\n",
       "\n",
       "    .dataframe tbody tr th {\n",
       "        vertical-align: top;\n",
       "    }\n",
       "\n",
       "    .dataframe thead th {\n",
       "        text-align: right;\n",
       "    }\n",
       "</style>\n",
       "<table border=\"1\" class=\"dataframe\">\n",
       "  <thead>\n",
       "    <tr style=\"text-align: right;\">\n",
       "      <th></th>\n",
       "      <th>tm_OFF_talent</th>\n",
       "      <th>MLB_avg_RPG</th>\n",
       "    </tr>\n",
       "  </thead>\n",
       "  <tbody>\n",
       "    <tr>\n",
       "      <td>0</td>\n",
       "      <td>1.332265</td>\n",
       "      <td>3.99</td>\n",
       "    </tr>\n",
       "    <tr>\n",
       "      <td>1</td>\n",
       "      <td>1.049056</td>\n",
       "      <td>4.41</td>\n",
       "    </tr>\n",
       "    <tr>\n",
       "      <td>2</td>\n",
       "      <td>1.778661</td>\n",
       "      <td>4.91</td>\n",
       "    </tr>\n",
       "    <tr>\n",
       "      <td>3</td>\n",
       "      <td>1.472107</td>\n",
       "      <td>4.49</td>\n",
       "    </tr>\n",
       "    <tr>\n",
       "      <td>4</td>\n",
       "      <td>1.356557</td>\n",
       "      <td>4.68</td>\n",
       "    </tr>\n",
       "    <tr>\n",
       "      <td>...</td>\n",
       "      <td>...</td>\n",
       "      <td>...</td>\n",
       "    </tr>\n",
       "    <tr>\n",
       "      <td>167</td>\n",
       "      <td>0.565687</td>\n",
       "      <td>3.91</td>\n",
       "    </tr>\n",
       "    <tr>\n",
       "      <td>168</td>\n",
       "      <td>0.597254</td>\n",
       "      <td>4.33</td>\n",
       "    </tr>\n",
       "    <tr>\n",
       "      <td>169</td>\n",
       "      <td>0.538848</td>\n",
       "      <td>4.58</td>\n",
       "    </tr>\n",
       "    <tr>\n",
       "      <td>170</td>\n",
       "      <td>0.628671</td>\n",
       "      <td>4.31</td>\n",
       "    </tr>\n",
       "    <tr>\n",
       "      <td>171</td>\n",
       "      <td>0.435360</td>\n",
       "      <td>4.01</td>\n",
       "    </tr>\n",
       "  </tbody>\n",
       "</table>\n",
       "<p>172 rows × 2 columns</p>\n",
       "</div>"
      ],
      "text/plain": [
       "     tm_OFF_talent  MLB_avg_RPG\n",
       "0         1.332265         3.99\n",
       "1         1.049056         4.41\n",
       "2         1.778661         4.91\n",
       "3         1.472107         4.49\n",
       "4         1.356557         4.68\n",
       "..             ...          ...\n",
       "167       0.565687         3.91\n",
       "168       0.597254         4.33\n",
       "169       0.538848         4.58\n",
       "170       0.628671         4.31\n",
       "171       0.435360         4.01\n",
       "\n",
       "[172 rows x 2 columns]"
      ]
     },
     "execution_count": 12,
     "metadata": {},
     "output_type": "execute_result"
    }
   ],
   "source": [
    "data_new"
   ]
  },
  {
   "cell_type": "markdown",
   "metadata": {},
   "source": [
    "# Checking for outliers"
   ]
  },
  {
   "cell_type": "code",
   "execution_count": 13,
   "metadata": {},
   "outputs": [
    {
     "data": {
      "text/plain": [
       "<matplotlib.axes._subplots.AxesSubplot at 0x7fea48a048>"
      ]
     },
     "execution_count": 13,
     "metadata": {},
     "output_type": "execute_result"
    },
    {
     "data": {
      "image/png": "[encoded data removed]",
      "text/plain": [
       "<Figure size 432x288 with 1 Axes>"
      ]
     },
     "metadata": {
      "needs_background": "light"
     },
     "output_type": "display_data"
    }
   ],
   "source": [
    "snd.boxplot(y='tm_OFF_talent',data=data_new)"
   ]
  },
  {
   "cell_type": "code",
   "execution_count": 14,
   "metadata": {},
   "outputs": [
    {
     "data": {
      "text/plain": [
       "<matplotlib.axes._subplots.AxesSubplot at 0x7fea0f1d48>"
      ]
     },
     "execution_count": 14,
     "metadata": {},
     "output_type": "execute_result"
    },
    {
     "data": {
      "image/png": "[encoded data removed]",
      "text/plain": [
       "<Figure size 432x288 with 1 Axes>"
      ]
     },
     "metadata": {
      "needs_background": "light"
     },
     "output_type": "display_data"
    }
   ],
   "source": [
    "snd.boxplot(y='MLB_avg_RPG',data=data_new)"
   ]
  },
  {
   "cell_type": "code",
   "execution_count": 15,
   "metadata": {},
   "outputs": [
    {
     "data": {
      "text/plain": [
       "count    172.000000\n",
       "mean       0.980740\n",
       "std        0.229886\n",
       "min        0.329207\n",
       "25%        0.837329\n",
       "50%        0.961385\n",
       "75%        1.112122\n",
       "max        1.778661\n",
       "Name: tm_OFF_talent, dtype: float64"
      ]
     },
     "execution_count": 15,
     "metadata": {},
     "output_type": "execute_result"
    }
   ],
   "source": [
    "data_new['tm_OFF_talent'].describe()"
   ]
  },
  {
   "cell_type": "code",
   "execution_count": 16,
   "metadata": {},
   "outputs": [],
   "source": [
    "q1 = data_new['tm_OFF_talent'].quantile(0.25)\n",
    "q3 = data_new['tm_OFF_talent'].quantile(0.75)\n",
    "iqr = q3-q1 #Interquartile range\n",
    "low  = q1-1.5*iqr #acceptable range\n",
    "high = q3+1.5*iqr #acceptable range\n"
   ]
  },
  {
   "cell_type": "code",
   "execution_count": 17,
   "metadata": {},
   "outputs": [
    {
     "data": {
      "text/plain": [
       "(0.42514069212499994, 1.5243104991249998)"
      ]
     },
     "execution_count": 17,
     "metadata": {},
     "output_type": "execute_result"
    }
   ],
   "source": [
    "low,high"
   ]
  },
  {
   "cell_type": "markdown",
   "metadata": {},
   "source": [
    "# Winzorizing tech"
   ]
  },
  {
   "cell_type": "code",
   "execution_count": 18,
   "metadata": {},
   "outputs": [
    {
     "name": "stderr",
     "output_type": "stream",
     "text": [
      "C:\\Users\\User\\Anaconda3\\lib\\site-packages\\ipykernel_launcher.py:1: SettingWithCopyWarning: \n",
      "A value is trying to be set on a copy of a slice from a DataFrame.\n",
      "Try using .loc[row_indexer,col_indexer] = value instead\n",
      "\n",
      "See the caveats in the documentation: http://pandas.pydata.org/pandas-docs/stable/user_guide/indexing.html#returning-a-view-versus-a-copy\n",
      "  \"\"\"Entry point for launching an IPython kernel.\n"
     ]
    }
   ],
   "source": [
    "data_new['tm_OFF_talent']=np.where (data_new['tm_OFF_talent']>high,high,data_new['tm_OFF_talent'])"
   ]
  },
  {
   "cell_type": "code",
   "execution_count": 19,
   "metadata": {},
   "outputs": [
    {
     "name": "stderr",
     "output_type": "stream",
     "text": [
      "C:\\Users\\User\\Anaconda3\\lib\\site-packages\\ipykernel_launcher.py:1: SettingWithCopyWarning: \n",
      "A value is trying to be set on a copy of a slice from a DataFrame.\n",
      "Try using .loc[row_indexer,col_indexer] = value instead\n",
      "\n",
      "See the caveats in the documentation: http://pandas.pydata.org/pandas-docs/stable/user_guide/indexing.html#returning-a-view-versus-a-copy\n",
      "  \"\"\"Entry point for launching an IPython kernel.\n"
     ]
    }
   ],
   "source": [
    "data_new['tm_OFF_talent']=np.where (data_new['tm_OFF_talent']<low,low,data_new['tm_OFF_talent'])"
   ]
  },
  {
   "cell_type": "code",
   "execution_count": 20,
   "metadata": {},
   "outputs": [
    {
     "data": {
      "text/plain": [
       "<matplotlib.axes._subplots.AxesSubplot at 0x7fea17b8c8>"
      ]
     },
     "execution_count": 20,
     "metadata": {},
     "output_type": "execute_result"
    },
    {
     "data": {
      "image/png": "[encoded data removed]",
      "text/plain": [
       "<Figure size 432x288 with 1 Axes>"
      ]
     },
     "metadata": {
      "needs_background": "light"
     },
     "output_type": "display_data"
    }
   ],
   "source": [
    "snd.boxplot(y='tm_OFF_talent',data=data_new)"
   ]
  },
  {
   "cell_type": "code",
   "execution_count": 21,
   "metadata": {},
   "outputs": [
    {
     "data": {
      "text/html": [
       "<div>\n",
       "<style scoped>\n",
       "    .dataframe tbody tr th:only-of-type {\n",
       "        vertical-align: middle;\n",
       "    }\n",
       "\n",
       "    .dataframe tbody tr th {\n",
       "        vertical-align: top;\n",
       "    }\n",
       "\n",
       "    .dataframe thead th {\n",
       "        text-align: right;\n",
       "    }\n",
       "</style>\n",
       "<table border=\"1\" class=\"dataframe\">\n",
       "  <thead>\n",
       "    <tr style=\"text-align: right;\">\n",
       "      <th></th>\n",
       "      <th>tm_OFF_talent</th>\n",
       "      <th>MLB_avg_RPG</th>\n",
       "    </tr>\n",
       "  </thead>\n",
       "  <tbody>\n",
       "    <tr>\n",
       "      <td>0</td>\n",
       "      <td>1.332265</td>\n",
       "      <td>3.99</td>\n",
       "    </tr>\n",
       "    <tr>\n",
       "      <td>1</td>\n",
       "      <td>1.049056</td>\n",
       "      <td>4.41</td>\n",
       "    </tr>\n",
       "    <tr>\n",
       "      <td>2</td>\n",
       "      <td>1.524310</td>\n",
       "      <td>4.91</td>\n",
       "    </tr>\n",
       "    <tr>\n",
       "      <td>3</td>\n",
       "      <td>1.472107</td>\n",
       "      <td>4.49</td>\n",
       "    </tr>\n",
       "    <tr>\n",
       "      <td>4</td>\n",
       "      <td>1.356557</td>\n",
       "      <td>4.68</td>\n",
       "    </tr>\n",
       "    <tr>\n",
       "      <td>...</td>\n",
       "      <td>...</td>\n",
       "      <td>...</td>\n",
       "    </tr>\n",
       "    <tr>\n",
       "      <td>167</td>\n",
       "      <td>0.565687</td>\n",
       "      <td>3.91</td>\n",
       "    </tr>\n",
       "    <tr>\n",
       "      <td>168</td>\n",
       "      <td>0.597254</td>\n",
       "      <td>4.33</td>\n",
       "    </tr>\n",
       "    <tr>\n",
       "      <td>169</td>\n",
       "      <td>0.538848</td>\n",
       "      <td>4.58</td>\n",
       "    </tr>\n",
       "    <tr>\n",
       "      <td>170</td>\n",
       "      <td>0.628671</td>\n",
       "      <td>4.31</td>\n",
       "    </tr>\n",
       "    <tr>\n",
       "      <td>171</td>\n",
       "      <td>0.435360</td>\n",
       "      <td>4.01</td>\n",
       "    </tr>\n",
       "  </tbody>\n",
       "</table>\n",
       "<p>172 rows × 2 columns</p>\n",
       "</div>"
      ],
      "text/plain": [
       "     tm_OFF_talent  MLB_avg_RPG\n",
       "0         1.332265         3.99\n",
       "1         1.049056         4.41\n",
       "2         1.524310         4.91\n",
       "3         1.472107         4.49\n",
       "4         1.356557         4.68\n",
       "..             ...          ...\n",
       "167       0.565687         3.91\n",
       "168       0.597254         4.33\n",
       "169       0.538848         4.58\n",
       "170       0.628671         4.31\n",
       "171       0.435360         4.01\n",
       "\n",
       "[172 rows x 2 columns]"
      ]
     },
     "execution_count": 21,
     "metadata": {},
     "output_type": "execute_result"
    }
   ],
   "source": [
    "data_new"
   ]
  },
  {
   "cell_type": "code",
   "execution_count": 22,
   "metadata": {},
   "outputs": [],
   "source": [
    "q11 = data_new['MLB_avg_RPG'].quantile(0.25)\n",
    "q33 = data_new['MLB_avg_RPG'].quantile(0.75)\n",
    "iqr = q33-q11 #Interquartile range\n",
    "low1  = q11-1.5*iqr #acceptable range\n",
    "high1 = q33+1.5*iqr #acceptable range"
   ]
  },
  {
   "cell_type": "code",
   "execution_count": 23,
   "metadata": {},
   "outputs": [
    {
     "data": {
      "text/plain": [
       "(3.4499999999999993, 5.370000000000001)"
      ]
     },
     "execution_count": 23,
     "metadata": {},
     "output_type": "execute_result"
    }
   ],
   "source": [
    "low1,high1"
   ]
  },
  {
   "cell_type": "code",
   "execution_count": 24,
   "metadata": {},
   "outputs": [
    {
     "data": {
      "text/plain": [
       "count    172.000000\n",
       "mean       4.414535\n",
       "std        0.346091\n",
       "min        3.420000\n",
       "25%        4.170000\n",
       "50%        4.380000\n",
       "75%        4.650000\n",
       "max        5.190000\n",
       "Name: MLB_avg_RPG, dtype: float64"
      ]
     },
     "execution_count": 24,
     "metadata": {},
     "output_type": "execute_result"
    }
   ],
   "source": [
    "data_new['MLB_avg_RPG'].describe()"
   ]
  },
  {
   "cell_type": "code",
   "execution_count": 25,
   "metadata": {},
   "outputs": [
    {
     "name": "stderr",
     "output_type": "stream",
     "text": [
      "C:\\Users\\User\\Anaconda3\\lib\\site-packages\\ipykernel_launcher.py:1: SettingWithCopyWarning: \n",
      "A value is trying to be set on a copy of a slice from a DataFrame.\n",
      "Try using .loc[row_indexer,col_indexer] = value instead\n",
      "\n",
      "See the caveats in the documentation: http://pandas.pydata.org/pandas-docs/stable/user_guide/indexing.html#returning-a-view-versus-a-copy\n",
      "  \"\"\"Entry point for launching an IPython kernel.\n"
     ]
    }
   ],
   "source": [
    "data_new['MLB_avg_RPG']=np.where (data_new['MLB_avg_RPG']>high1,high1,data_new['MLB_avg_RPG'])"
   ]
  },
  {
   "cell_type": "code",
   "execution_count": 26,
   "metadata": {},
   "outputs": [
    {
     "name": "stderr",
     "output_type": "stream",
     "text": [
      "C:\\Users\\User\\Anaconda3\\lib\\site-packages\\ipykernel_launcher.py:1: SettingWithCopyWarning: \n",
      "A value is trying to be set on a copy of a slice from a DataFrame.\n",
      "Try using .loc[row_indexer,col_indexer] = value instead\n",
      "\n",
      "See the caveats in the documentation: http://pandas.pydata.org/pandas-docs/stable/user_guide/indexing.html#returning-a-view-versus-a-copy\n",
      "  \"\"\"Entry point for launching an IPython kernel.\n"
     ]
    }
   ],
   "source": [
    "data_new['MLB_avg_RPG']=np.where (data_new['MLB_avg_RPG']<low1,low1,data_new['MLB_avg_RPG'])"
   ]
  },
  {
   "cell_type": "code",
   "execution_count": 27,
   "metadata": {},
   "outputs": [
    {
     "data": {
      "text/plain": [
       "<matplotlib.axes._subplots.AxesSubplot at 0x7fea182ac8>"
      ]
     },
     "execution_count": 27,
     "metadata": {},
     "output_type": "execute_result"
    },
    {
     "data": {
      "image/png": "[encoded data removed]",
      "text/plain": [
       "<Figure size 432x288 with 1 Axes>"
      ]
     },
     "metadata": {
      "needs_background": "light"
     },
     "output_type": "display_data"
    }
   ],
   "source": [
    "snd.boxplot(y='MLB_avg_RPG',data=data_new)"
   ]
  },
  {
   "cell_type": "markdown",
   "metadata": {},
   "source": [
    "# CORRELATION MATRIX "
   ]
  },
  {
   "cell_type": "code",
   "execution_count": 28,
   "metadata": {},
   "outputs": [],
   "source": [
    "new_corr=data_new.corr()"
   ]
  },
  {
   "cell_type": "code",
   "execution_count": 29,
   "metadata": {},
   "outputs": [
    {
     "data": {
      "text/plain": [
       "<matplotlib.axes._subplots.AxesSubplot at 0x7fea245748>"
      ]
     },
     "execution_count": 29,
     "metadata": {},
     "output_type": "execute_result"
    },
    {
     "data": {
      "image/png": "[encoded data removed]",
      "text/plain": [
       "<Figure size 360x360 with 2 Axes>"
      ]
     },
     "metadata": {
      "needs_background": "light"
     },
     "output_type": "display_data"
    }
   ],
   "source": [
    "f, ax = plt.subplots(figsize=(5, 5))\n",
    "snd.heatmap(new_corr,annot=True)"
   ]
  },
  {
   "cell_type": "markdown",
   "metadata": {},
   "source": [
    "# DATA PARTITION"
   ]
  },
  {
   "cell_type": "code",
   "execution_count": 30,
   "metadata": {},
   "outputs": [],
   "source": [
    "train_X=data_new[['tm_OFF_talent']]"
   ]
  },
  {
   "cell_type": "code",
   "execution_count": 31,
   "metadata": {},
   "outputs": [],
   "source": [
    "train_Y=data_new[['MLB_avg_RPG']]"
   ]
  },
  {
   "cell_type": "code",
   "execution_count": 32,
   "metadata": {},
   "outputs": [],
   "source": [
    "X_train, X_test, y_train, y_test =train_test_split(train_X,\n",
    "                    train_Y,test_size=0.3,random_state=231)"
   ]
  },
  {
   "cell_type": "code",
   "execution_count": 33,
   "metadata": {},
   "outputs": [
    {
     "data": {
      "text/plain": [
       "(120, 1)"
      ]
     },
     "execution_count": 33,
     "metadata": {},
     "output_type": "execute_result"
    }
   ],
   "source": [
    "X_train.shape"
   ]
  },
  {
   "cell_type": "code",
   "execution_count": 34,
   "metadata": {},
   "outputs": [
    {
     "data": {
      "text/plain": [
       "(52, 1)"
      ]
     },
     "execution_count": 34,
     "metadata": {},
     "output_type": "execute_result"
    }
   ],
   "source": [
    "X_test.shape"
   ]
  },
  {
   "cell_type": "markdown",
   "metadata": {},
   "source": [
    "# MODEL BUILDING "
   ]
  },
  {
   "cell_type": "code",
   "execution_count": 39,
   "metadata": {},
   "outputs": [],
   "source": [
    "trained_data=pd.concat([X_train,y_train],axis=1)"
   ]
  },
  {
   "cell_type": "code",
   "execution_count": 40,
   "metadata": {},
   "outputs": [
    {
     "data": {
      "text/html": [
       "<div>\n",
       "<style scoped>\n",
       "    .dataframe tbody tr th:only-of-type {\n",
       "        vertical-align: middle;\n",
       "    }\n",
       "\n",
       "    .dataframe tbody tr th {\n",
       "        vertical-align: top;\n",
       "    }\n",
       "\n",
       "    .dataframe thead th {\n",
       "        text-align: right;\n",
       "    }\n",
       "</style>\n",
       "<table border=\"1\" class=\"dataframe\">\n",
       "  <thead>\n",
       "    <tr style=\"text-align: right;\">\n",
       "      <th></th>\n",
       "      <th>tm_OFF_talent</th>\n",
       "      <th>MLB_avg_RPG</th>\n",
       "    </tr>\n",
       "  </thead>\n",
       "  <tbody>\n",
       "    <tr>\n",
       "      <td>130</td>\n",
       "      <td>1.191538</td>\n",
       "      <td>4.31</td>\n",
       "    </tr>\n",
       "    <tr>\n",
       "      <td>153</td>\n",
       "      <td>0.772858</td>\n",
       "      <td>4.38</td>\n",
       "    </tr>\n",
       "    <tr>\n",
       "      <td>146</td>\n",
       "      <td>0.813652</td>\n",
       "      <td>4.46</td>\n",
       "    </tr>\n",
       "    <tr>\n",
       "      <td>43</td>\n",
       "      <td>0.909911</td>\n",
       "      <td>3.99</td>\n",
       "    </tr>\n",
       "    <tr>\n",
       "      <td>3</td>\n",
       "      <td>1.472107</td>\n",
       "      <td>4.49</td>\n",
       "    </tr>\n",
       "    <tr>\n",
       "      <td>...</td>\n",
       "      <td>...</td>\n",
       "      <td>...</td>\n",
       "    </tr>\n",
       "    <tr>\n",
       "      <td>119</td>\n",
       "      <td>0.828100</td>\n",
       "      <td>3.89</td>\n",
       "    </tr>\n",
       "    <tr>\n",
       "      <td>2</td>\n",
       "      <td>1.524310</td>\n",
       "      <td>4.91</td>\n",
       "    </tr>\n",
       "    <tr>\n",
       "      <td>11</td>\n",
       "      <td>1.120247</td>\n",
       "      <td>4.08</td>\n",
       "    </tr>\n",
       "    <tr>\n",
       "      <td>148</td>\n",
       "      <td>0.721370</td>\n",
       "      <td>4.38</td>\n",
       "    </tr>\n",
       "    <tr>\n",
       "      <td>87</td>\n",
       "      <td>1.019641</td>\n",
       "      <td>4.18</td>\n",
       "    </tr>\n",
       "  </tbody>\n",
       "</table>\n",
       "<p>120 rows × 2 columns</p>\n",
       "</div>"
      ],
      "text/plain": [
       "     tm_OFF_talent  MLB_avg_RPG\n",
       "130       1.191538         4.31\n",
       "153       0.772858         4.38\n",
       "146       0.813652         4.46\n",
       "43        0.909911         3.99\n",
       "3         1.472107         4.49\n",
       "..             ...          ...\n",
       "119       0.828100         3.89\n",
       "2         1.524310         4.91\n",
       "11        1.120247         4.08\n",
       "148       0.721370         4.38\n",
       "87        1.019641         4.18\n",
       "\n",
       "[120 rows x 2 columns]"
      ]
     },
     "execution_count": 40,
     "metadata": {},
     "output_type": "execute_result"
    }
   ],
   "source": [
    "trained_data"
   ]
  },
  {
   "cell_type": "markdown",
   "metadata": {},
   "source": [
    "# USING LINEAR REGRESSION FUNCTIOON "
   ]
  },
  {
   "cell_type": "code",
   "execution_count": 51,
   "metadata": {},
   "outputs": [
    {
     "data": {
      "text/plain": [
       "LinearRegression(copy_X=True, fit_intercept=True, n_jobs=None, normalize=False)"
      ]
     },
     "execution_count": 51,
     "metadata": {},
     "output_type": "execute_result"
    }
   ],
   "source": [
    "slr=LinearRegression()\n",
    "slr.fit(X_train,y_train)"
   ]
  },
  {
   "cell_type": "markdown",
   "metadata": {},
   "source": [
    "# MODEL EVALUATION "
   ]
  },
  {
   "cell_type": "code",
   "execution_count": 56,
   "metadata": {},
   "outputs": [
    {
     "data": {
      "text/plain": [
       "array([3.84080991])"
      ]
     },
     "execution_count": 56,
     "metadata": {},
     "output_type": "execute_result"
    }
   ],
   "source": [
    "slr.intercept_"
   ]
  },
  {
   "cell_type": "code",
   "execution_count": 68,
   "metadata": {},
   "outputs": [
    {
     "data": {
      "text/html": [
       "<div>\n",
       "<style scoped>\n",
       "    .dataframe tbody tr th:only-of-type {\n",
       "        vertical-align: middle;\n",
       "    }\n",
       "\n",
       "    .dataframe tbody tr th {\n",
       "        vertical-align: top;\n",
       "    }\n",
       "\n",
       "    .dataframe thead th {\n",
       "        text-align: right;\n",
       "    }\n",
       "</style>\n",
       "<table border=\"1\" class=\"dataframe\">\n",
       "  <thead>\n",
       "    <tr style=\"text-align: right;\">\n",
       "      <th></th>\n",
       "      <th>Coefficient</th>\n",
       "    </tr>\n",
       "  </thead>\n",
       "  <tbody>\n",
       "    <tr>\n",
       "      <td>tm_OFF_talent</td>\n",
       "      <td>0.563544</td>\n",
       "    </tr>\n",
       "  </tbody>\n",
       "</table>\n",
       "</div>"
      ],
      "text/plain": [
       "               Coefficient\n",
       "tm_OFF_talent     0.563544"
      ]
     },
     "execution_count": 68,
     "metadata": {},
     "output_type": "execute_result"
    }
   ],
   "source": [
    "coeff_df = pd.DataFrame(slr.coef_,X_train.columns,columns=['Coefficient'])\n",
    "coeff_df"
   ]
  },
  {
   "cell_type": "raw",
   "metadata": {},
   "source": [
    "if tm_OFF_talent increases by 1 unit\n",
    "MLB avg increases by 0.563544 unit"
   ]
  },
  {
   "cell_type": "markdown",
   "metadata": {},
   "source": [
    "# using STATSMODEL"
   ]
  },
  {
   "cell_type": "code",
   "execution_count": 63,
   "metadata": {},
   "outputs": [
    {
     "name": "stderr",
     "output_type": "stream",
     "text": [
      "C:\\Users\\User\\Anaconda3\\lib\\site-packages\\numpy\\core\\fromnumeric.py:2389: FutureWarning: Method .ptp is deprecated and will be removed in a future version. Use numpy.ptp instead.\n",
      "  return ptp(axis=axis, out=out, **kwargs)\n"
     ]
    }
   ],
   "source": [
    "X_train_const=sm.add_constant(X_train)\n",
    "model=sm.OLS(y_train,X_train_const).fit()"
   ]
  },
  {
   "cell_type": "code",
   "execution_count": 64,
   "metadata": {},
   "outputs": [
    {
     "data": {
      "text/html": [
       "<table class=\"simpletable\">\n",
       "<caption>OLS Regression Results</caption>\n",
       "<tr>\n",
       "  <th>Dep. Variable:</th>       <td>MLB_avg_RPG</td>   <th>  R-squared:         </th> <td>   0.119</td>\n",
       "</tr>\n",
       "<tr>\n",
       "  <th>Model:</th>                   <td>OLS</td>       <th>  Adj. R-squared:    </th> <td>   0.112</td>\n",
       "</tr>\n",
       "<tr>\n",
       "  <th>Method:</th>             <td>Least Squares</td>  <th>  F-statistic:       </th> <td>   16.01</td>\n",
       "</tr>\n",
       "<tr>\n",
       "  <th>Date:</th>             <td>Sun, 28 Jun 2020</td> <th>  Prob (F-statistic):</th> <td>0.000110</td>\n",
       "</tr>\n",
       "<tr>\n",
       "  <th>Time:</th>                 <td>12:59:40</td>     <th>  Log-Likelihood:    </th> <td> -39.077</td>\n",
       "</tr>\n",
       "<tr>\n",
       "  <th>No. Observations:</th>      <td>   120</td>      <th>  AIC:               </th> <td>   82.15</td>\n",
       "</tr>\n",
       "<tr>\n",
       "  <th>Df Residuals:</th>          <td>   118</td>      <th>  BIC:               </th> <td>   87.73</td>\n",
       "</tr>\n",
       "<tr>\n",
       "  <th>Df Model:</th>              <td>     1</td>      <th>                     </th>     <td> </td>   \n",
       "</tr>\n",
       "<tr>\n",
       "  <th>Covariance Type:</th>      <td>nonrobust</td>    <th>                     </th>     <td> </td>   \n",
       "</tr>\n",
       "</table>\n",
       "<table class=\"simpletable\">\n",
       "<tr>\n",
       "        <td></td>           <th>coef</th>     <th>std err</th>      <th>t</th>      <th>P>|t|</th>  <th>[0.025</th>    <th>0.975]</th>  \n",
       "</tr>\n",
       "<tr>\n",
       "  <th>const</th>         <td>    3.8408</td> <td>    0.140</td> <td>   27.407</td> <td> 0.000</td> <td>    3.563</td> <td>    4.118</td>\n",
       "</tr>\n",
       "<tr>\n",
       "  <th>tm_OFF_talent</th> <td>    0.5635</td> <td>    0.141</td> <td>    4.002</td> <td> 0.000</td> <td>    0.285</td> <td>    0.842</td>\n",
       "</tr>\n",
       "</table>\n",
       "<table class=\"simpletable\">\n",
       "<tr>\n",
       "  <th>Omnibus:</th>       <td> 0.548</td> <th>  Durbin-Watson:     </th> <td>   2.027</td>\n",
       "</tr>\n",
       "<tr>\n",
       "  <th>Prob(Omnibus):</th> <td> 0.760</td> <th>  Jarque-Bera (JB):  </th> <td>   0.215</td>\n",
       "</tr>\n",
       "<tr>\n",
       "  <th>Skew:</th>          <td>-0.051</td> <th>  Prob(JB):          </th> <td>   0.898</td>\n",
       "</tr>\n",
       "<tr>\n",
       "  <th>Kurtosis:</th>      <td> 3.181</td> <th>  Cond. No.          </th> <td>    8.97</td>\n",
       "</tr>\n",
       "</table><br/><br/>Warnings:<br/>[1] Standard Errors assume that the covariance matrix of the errors is correctly specified."
      ],
      "text/plain": [
       "<class 'statsmodels.iolib.summary.Summary'>\n",
       "\"\"\"\n",
       "                            OLS Regression Results                            \n",
       "==============================================================================\n",
       "Dep. Variable:            MLB_avg_RPG   R-squared:                       0.119\n",
       "Model:                            OLS   Adj. R-squared:                  0.112\n",
       "Method:                 Least Squares   F-statistic:                     16.01\n",
       "Date:                Sun, 28 Jun 2020   Prob (F-statistic):           0.000110\n",
       "Time:                        12:59:40   Log-Likelihood:                -39.077\n",
       "No. Observations:                 120   AIC:                             82.15\n",
       "Df Residuals:                     118   BIC:                             87.73\n",
       "Df Model:                           1                                         \n",
       "Covariance Type:            nonrobust                                         \n",
       "=================================================================================\n",
       "                    coef    std err          t      P>|t|      [0.025      0.975]\n",
       "---------------------------------------------------------------------------------\n",
       "const             3.8408      0.140     27.407      0.000       3.563       4.118\n",
       "tm_OFF_talent     0.5635      0.141      4.002      0.000       0.285       0.842\n",
       "==============================================================================\n",
       "Omnibus:                        0.548   Durbin-Watson:                   2.027\n",
       "Prob(Omnibus):                  0.760   Jarque-Bera (JB):                0.215\n",
       "Skew:                          -0.051   Prob(JB):                        0.898\n",
       "Kurtosis:                       3.181   Cond. No.                         8.97\n",
       "==============================================================================\n",
       "\n",
       "Warnings:\n",
       "[1] Standard Errors assume that the covariance matrix of the errors is correctly specified.\n",
       "\"\"\""
      ]
     },
     "execution_count": 64,
     "metadata": {},
     "output_type": "execute_result"
    }
   ],
   "source": [
    "model.summary()"
   ]
  },
  {
   "cell_type": "code",
   "execution_count": 107,
   "metadata": {},
   "outputs": [],
   "source": [
    "Y_prdict=model.predict(X_train_const)"
   ]
  },
  {
   "cell_type": "code",
   "execution_count": 111,
   "metadata": {},
   "outputs": [],
   "source": [
    "trained_data=pd.concat([X_train,y_train],axis=1)"
   ]
  },
  {
   "cell_type": "code",
   "execution_count": 112,
   "metadata": {},
   "outputs": [],
   "source": [
    "trained_data['Predicted']=Y_prdict"
   ]
  },
  {
   "cell_type": "code",
   "execution_count": 113,
   "metadata": {},
   "outputs": [
    {
     "data": {
      "text/html": [
       "<div>\n",
       "<style scoped>\n",
       "    .dataframe tbody tr th:only-of-type {\n",
       "        vertical-align: middle;\n",
       "    }\n",
       "\n",
       "    .dataframe tbody tr th {\n",
       "        vertical-align: top;\n",
       "    }\n",
       "\n",
       "    .dataframe thead th {\n",
       "        text-align: right;\n",
       "    }\n",
       "</style>\n",
       "<table border=\"1\" class=\"dataframe\">\n",
       "  <thead>\n",
       "    <tr style=\"text-align: right;\">\n",
       "      <th></th>\n",
       "      <th>tm_OFF_talent</th>\n",
       "      <th>MLB_avg_RPG</th>\n",
       "      <th>Predicted</th>\n",
       "    </tr>\n",
       "  </thead>\n",
       "  <tbody>\n",
       "    <tr>\n",
       "      <td>130</td>\n",
       "      <td>1.191538</td>\n",
       "      <td>4.31</td>\n",
       "      <td>4.512294</td>\n",
       "    </tr>\n",
       "    <tr>\n",
       "      <td>153</td>\n",
       "      <td>0.772858</td>\n",
       "      <td>4.38</td>\n",
       "      <td>4.276349</td>\n",
       "    </tr>\n",
       "    <tr>\n",
       "      <td>146</td>\n",
       "      <td>0.813652</td>\n",
       "      <td>4.46</td>\n",
       "      <td>4.299338</td>\n",
       "    </tr>\n",
       "    <tr>\n",
       "      <td>43</td>\n",
       "      <td>0.909911</td>\n",
       "      <td>3.99</td>\n",
       "      <td>4.353584</td>\n",
       "    </tr>\n",
       "    <tr>\n",
       "      <td>3</td>\n",
       "      <td>1.472107</td>\n",
       "      <td>4.49</td>\n",
       "      <td>4.670406</td>\n",
       "    </tr>\n",
       "  </tbody>\n",
       "</table>\n",
       "</div>"
      ],
      "text/plain": [
       "     tm_OFF_talent  MLB_avg_RPG  Predicted\n",
       "130       1.191538         4.31   4.512294\n",
       "153       0.772858         4.38   4.276349\n",
       "146       0.813652         4.46   4.299338\n",
       "43        0.909911         3.99   4.353584\n",
       "3         1.472107         4.49   4.670406"
      ]
     },
     "execution_count": 113,
     "metadata": {},
     "output_type": "execute_result"
    }
   ],
   "source": [
    "trained_data.head()"
   ]
  },
  {
   "cell_type": "code",
   "execution_count": 114,
   "metadata": {},
   "outputs": [],
   "source": [
    "model_mse = mean_squared_error(trained_data[\"MLB_avg_RPG\"], trained_data['Predicted'])"
   ]
  },
  {
   "cell_type": "code",
   "execution_count": 115,
   "metadata": {},
   "outputs": [
    {
     "name": "stdout",
     "output_type": "stream",
     "text": [
      "0.11229799008635745\n"
     ]
    }
   ],
   "source": [
    "model_mse = mean_squared_error(trained_data[\"MLB_avg_RPG\"], trained_data['Predicted'])\n",
    "print(model_mse)"
   ]
  },
  {
   "cell_type": "code",
   "execution_count": 116,
   "metadata": {},
   "outputs": [
    {
     "name": "stdout",
     "output_type": "stream",
     "text": [
      "0.3351089227196994\n"
     ]
    }
   ],
   "source": [
    "# calulcate the root mean squared error\n",
    "model_rmse = math.sqrt(model_mse)\n",
    "print(model_rmse)"
   ]
  },
  {
   "cell_type": "markdown",
   "metadata": {},
   "source": [
    "# Linearity"
   ]
  },
  {
   "cell_type": "code",
   "execution_count": 166,
   "metadata": {},
   "outputs": [
    {
     "data": {
      "image/png": "[encoded data removed]",
      "text/plain": [
       "<Figure size 360x360 with 1 Axes>"
      ]
     },
     "metadata": {
      "needs_background": "light"
     },
     "output_type": "display_data"
    }
   ],
   "source": [
    "p=snd.pairplot(trained_data,x_vars=['tm_OFF_talent'], y_vars='Predicted',\n",
    "                 size=5)"
   ]
  },
  {
   "cell_type": "code",
   "execution_count": 133,
   "metadata": {},
   "outputs": [],
   "source": [
    "residual=model.resid"
   ]
  },
  {
   "cell_type": "code",
   "execution_count": 136,
   "metadata": {},
   "outputs": [
    {
     "data": {
      "text/plain": [
       "130   -0.202294\n",
       "153    0.103651\n",
       "146    0.160662\n",
       "43    -0.363584\n",
       "3     -0.180406\n",
       "         ...   \n",
       "119   -0.417481\n",
       "2      0.210175\n",
       "11    -0.392118\n",
       "148    0.132667\n",
       "87    -0.235422\n",
       "Length: 120, dtype: float64"
      ]
     },
     "execution_count": 136,
     "metadata": {},
     "output_type": "execute_result"
    }
   ],
   "source": [
    "residual"
   ]
  },
  {
   "cell_type": "code",
   "execution_count": 140,
   "metadata": {},
   "outputs": [],
   "source": [
    "trained_data['Residual']=residual"
   ]
  },
  {
   "cell_type": "code",
   "execution_count": 141,
   "metadata": {},
   "outputs": [
    {
     "data": {
      "text/html": [
       "<div>\n",
       "<style scoped>\n",
       "    .dataframe tbody tr th:only-of-type {\n",
       "        vertical-align: middle;\n",
       "    }\n",
       "\n",
       "    .dataframe tbody tr th {\n",
       "        vertical-align: top;\n",
       "    }\n",
       "\n",
       "    .dataframe thead th {\n",
       "        text-align: right;\n",
       "    }\n",
       "</style>\n",
       "<table border=\"1\" class=\"dataframe\">\n",
       "  <thead>\n",
       "    <tr style=\"text-align: right;\">\n",
       "      <th></th>\n",
       "      <th>tm_OFF_talent</th>\n",
       "      <th>MLB_avg_RPG</th>\n",
       "      <th>Predicted</th>\n",
       "      <th>Residual</th>\n",
       "    </tr>\n",
       "  </thead>\n",
       "  <tbody>\n",
       "    <tr>\n",
       "      <td>130</td>\n",
       "      <td>1.191538</td>\n",
       "      <td>4.31</td>\n",
       "      <td>4.512294</td>\n",
       "      <td>-0.202294</td>\n",
       "    </tr>\n",
       "    <tr>\n",
       "      <td>153</td>\n",
       "      <td>0.772858</td>\n",
       "      <td>4.38</td>\n",
       "      <td>4.276349</td>\n",
       "      <td>0.103651</td>\n",
       "    </tr>\n",
       "    <tr>\n",
       "      <td>146</td>\n",
       "      <td>0.813652</td>\n",
       "      <td>4.46</td>\n",
       "      <td>4.299338</td>\n",
       "      <td>0.160662</td>\n",
       "    </tr>\n",
       "    <tr>\n",
       "      <td>43</td>\n",
       "      <td>0.909911</td>\n",
       "      <td>3.99</td>\n",
       "      <td>4.353584</td>\n",
       "      <td>-0.363584</td>\n",
       "    </tr>\n",
       "    <tr>\n",
       "      <td>3</td>\n",
       "      <td>1.472107</td>\n",
       "      <td>4.49</td>\n",
       "      <td>4.670406</td>\n",
       "      <td>-0.180406</td>\n",
       "    </tr>\n",
       "    <tr>\n",
       "      <td>...</td>\n",
       "      <td>...</td>\n",
       "      <td>...</td>\n",
       "      <td>...</td>\n",
       "      <td>...</td>\n",
       "    </tr>\n",
       "    <tr>\n",
       "      <td>119</td>\n",
       "      <td>0.828100</td>\n",
       "      <td>3.89</td>\n",
       "      <td>4.307481</td>\n",
       "      <td>-0.417481</td>\n",
       "    </tr>\n",
       "    <tr>\n",
       "      <td>2</td>\n",
       "      <td>1.524310</td>\n",
       "      <td>4.91</td>\n",
       "      <td>4.699825</td>\n",
       "      <td>0.210175</td>\n",
       "    </tr>\n",
       "    <tr>\n",
       "      <td>11</td>\n",
       "      <td>1.120247</td>\n",
       "      <td>4.08</td>\n",
       "      <td>4.472118</td>\n",
       "      <td>-0.392118</td>\n",
       "    </tr>\n",
       "    <tr>\n",
       "      <td>148</td>\n",
       "      <td>0.721370</td>\n",
       "      <td>4.38</td>\n",
       "      <td>4.247333</td>\n",
       "      <td>0.132667</td>\n",
       "    </tr>\n",
       "    <tr>\n",
       "      <td>87</td>\n",
       "      <td>1.019641</td>\n",
       "      <td>4.18</td>\n",
       "      <td>4.415422</td>\n",
       "      <td>-0.235422</td>\n",
       "    </tr>\n",
       "  </tbody>\n",
       "</table>\n",
       "<p>120 rows × 4 columns</p>\n",
       "</div>"
      ],
      "text/plain": [
       "     tm_OFF_talent  MLB_avg_RPG  Predicted  Residual\n",
       "130       1.191538         4.31   4.512294 -0.202294\n",
       "153       0.772858         4.38   4.276349  0.103651\n",
       "146       0.813652         4.46   4.299338  0.160662\n",
       "43        0.909911         3.99   4.353584 -0.363584\n",
       "3         1.472107         4.49   4.670406 -0.180406\n",
       "..             ...          ...        ...       ...\n",
       "119       0.828100         3.89   4.307481 -0.417481\n",
       "2         1.524310         4.91   4.699825  0.210175\n",
       "11        1.120247         4.08   4.472118 -0.392118\n",
       "148       0.721370         4.38   4.247333  0.132667\n",
       "87        1.019641         4.18   4.415422 -0.235422\n",
       "\n",
       "[120 rows x 4 columns]"
      ]
     },
     "execution_count": 141,
     "metadata": {},
     "output_type": "execute_result"
    }
   ],
   "source": [
    "trained_data"
   ]
  },
  {
   "cell_type": "markdown",
   "metadata": {},
   "source": [
    "# Homoscedasicity ( Constant Variance )"
   ]
  },
  {
   "cell_type": "code",
   "execution_count": 142,
   "metadata": {},
   "outputs": [
    {
     "data": {
      "text/plain": [
       "<matplotlib.axes._subplots.AxesSubplot at 0x7fefa0b948>"
      ]
     },
     "execution_count": 142,
     "metadata": {},
     "output_type": "execute_result"
    },
    {
     "data": {
      "image/png": "[encoded data removed]",
      "text/plain": [
       "<Figure size 432x288 with 1 Axes>"
      ]
     },
     "metadata": {
      "needs_background": "light"
     },
     "output_type": "display_data"
    }
   ],
   "source": [
    "trained_data.plot.scatter(x='Predicted',y='Residual',title='Constant Variance')"
   ]
  },
  {
   "cell_type": "markdown",
   "metadata": {},
   "source": [
    "# normality"
   ]
  },
  {
   "cell_type": "code",
   "execution_count": 143,
   "metadata": {},
   "outputs": [
    {
     "data": {
      "image/png": "[encoded data removed]",
      "text/plain": [
       "<Figure size 432x288 with 1 Axes>"
      ]
     },
     "metadata": {
      "needs_background": "light"
     },
     "output_type": "display_data"
    }
   ],
   "source": [
    "import scipy.stats as stats\n",
    "\n",
    "stats.probplot(trained_data['Residual'], dist=\"norm\", plot=plt)\n",
    "plt.show()"
   ]
  },
  {
   "cell_type": "code",
   "execution_count": 154,
   "metadata": {},
   "outputs": [
    {
     "data": {
      "text/plain": [
       "<matplotlib.axes._subplots.AxesSubplot at 0x7fefac8708>"
      ]
     },
     "execution_count": 154,
     "metadata": {},
     "output_type": "execute_result"
    },
    {
     "data": {
      "image/png": "[encoded data removed]",
      "text/plain": [
       "<Figure size 432x288 with 1 Axes>"
      ]
     },
     "metadata": {
      "needs_background": "light"
     },
     "output_type": "display_data"
    }
   ],
   "source": [
    "trained_data.plot.scatter(x='tm_OFF_talent', y='Predicted', \n",
    "                  title='linearity')"
   ]
  },
  {
   "cell_type": "code",
   "execution_count": null,
   "metadata": {},
   "outputs": [],
   "source": []
  },
  {
   "cell_type": "code",
   "execution_count": null,
   "metadata": {},
   "outputs": [],
   "source": []
  },
  {
   "cell_type": "code",
   "execution_count": null,
   "metadata": {},
   "outputs": [],
   "source": []
  }
 ],
 "metadata": {
  "kernelspec": {
   "display_name": "Python 3",
   "language": "python",
   "name": "python3"
  },
  "language_info": {
   "codemirror_mode": {
    "name": "ipython",
    "version": 3
   },
   "file_extension": ".py",
   "mimetype": "text/x-python",
   "name": "python",
   "nbconvert_exporter": "python",
   "pygments_lexer": "ipython3",
   "version": "3.7.4"
  }
 },
 "nbformat": 4,
 "nbformat_minor": 2
}
